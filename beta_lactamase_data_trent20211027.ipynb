{
  "cells": [
    {
      "cell_type": "markdown",
      "metadata": {
        "id": "uOXYIR2P5bUi"
      },
      "source": [
        "# **Beta-Lactamase Data**"
      ]
    },
    {
      "cell_type": "code",
      "execution_count": 12,
      "metadata": {
        "id": "rcSbHGZf96Er"
      },
      "outputs": [],
      "source": [
        "import zipfile\n",
        "import pandas as pd\n",
        "from padelpy import from_smiles\n",
        "\n",
        "zf = zipfile.ZipFile(\"beta_lactamase_CHEMBL29.zip\", \"r\")\n",
        "df = pd.concat( (pd.read_csv( zf.open(f) ) for f in zf.namelist() ) )"
      ]
    },
    {
      "cell_type": "code",
      "execution_count": 13,
      "metadata": {
        "colab": {
          "base_uri": "https://localhost:8080/",
          "height": 694
        },
        "id": "IOKQXs0H7MkY",
        "outputId": "3de694bf-ef50-4bf3-aaab-a7ab67e25b43"
      },
      "outputs": [
        {
          "data": {
            "text/html": [
              "<div>\n",
              "<style scoped>\n",
              "    .dataframe tbody tr th:only-of-type {\n",
              "        vertical-align: middle;\n",
              "    }\n",
              "\n",
              "    .dataframe tbody tr th {\n",
              "        vertical-align: top;\n",
              "    }\n",
              "\n",
              "    .dataframe thead th {\n",
              "        text-align: right;\n",
              "    }\n",
              "</style>\n",
              "<table border=\"1\" class=\"dataframe\">\n",
              "  <thead>\n",
              "    <tr style=\"text-align: right;\">\n",
              "      <th></th>\n",
              "      <th>molecule_chembl_id</th>\n",
              "      <th>canonical_smiles</th>\n",
              "      <th>standard_relation</th>\n",
              "      <th>standard_value</th>\n",
              "      <th>standard_units</th>\n",
              "      <th>standard_type</th>\n",
              "      <th>pchembl_value</th>\n",
              "      <th>target_pref_name</th>\n",
              "      <th>bao_label</th>\n",
              "    </tr>\n",
              "  </thead>\n",
              "  <tbody>\n",
              "    <tr>\n",
              "      <th>0</th>\n",
              "      <td>CHEMBL1730</td>\n",
              "      <td>CO/N=C(\\C(=O)N[C@@H]1C(=O)N2C(C(=O)O)=C(COC(C)...</td>\n",
              "      <td>=</td>\n",
              "      <td>10.0</td>\n",
              "      <td>/mM/s</td>\n",
              "      <td>Kcat/Km</td>\n",
              "      <td>NaN</td>\n",
              "      <td>Gil1</td>\n",
              "      <td>assay format</td>\n",
              "    </tr>\n",
              "    <tr>\n",
              "      <th>1</th>\n",
              "      <td>CHEMBL996</td>\n",
              "      <td>CO[C@@]1(NC(=O)Cc2cccs2)C(=O)N2C(C(=O)O)=C(COC...</td>\n",
              "      <td>NaN</td>\n",
              "      <td>NaN</td>\n",
              "      <td>NaN</td>\n",
              "      <td>Kcat/Km</td>\n",
              "      <td>NaN</td>\n",
              "      <td>Gil1</td>\n",
              "      <td>assay format</td>\n",
              "    </tr>\n",
              "    <tr>\n",
              "      <th>2</th>\n",
              "      <td>CHEMBL617</td>\n",
              "      <td>CC(=O)OCC1=C(C(=O)O)N2C(=O)[C@@H](NC(=O)Cc3ccc...</td>\n",
              "      <td>=</td>\n",
              "      <td>598.0</td>\n",
              "      <td>/mM/s</td>\n",
              "      <td>Kcat/Km</td>\n",
              "      <td>NaN</td>\n",
              "      <td>Gil1</td>\n",
              "      <td>assay format</td>\n",
              "    </tr>\n",
              "    <tr>\n",
              "      <th>3</th>\n",
              "      <td>CHEMBL702</td>\n",
              "      <td>CCN1CCN(C(=O)N[C@@H](C(=O)N[C@@H]2C(=O)N3[C@@H...</td>\n",
              "      <td>=</td>\n",
              "      <td>3400.0</td>\n",
              "      <td>/mM/s</td>\n",
              "      <td>Kcat/Km</td>\n",
              "      <td>NaN</td>\n",
              "      <td>Gil1</td>\n",
              "      <td>assay format</td>\n",
              "    </tr>\n",
              "    <tr>\n",
              "      <th>4</th>\n",
              "      <td>CHEMBL1449</td>\n",
              "      <td>CC1(C)S[C@@H]2[C@H](NC(=O)[C@H](C(=O)O)c3ccsc3...</td>\n",
              "      <td>=</td>\n",
              "      <td>10000.0</td>\n",
              "      <td>/mM/s</td>\n",
              "      <td>Kcat/Km</td>\n",
              "      <td>NaN</td>\n",
              "      <td>Gil1</td>\n",
              "      <td>assay format</td>\n",
              "    </tr>\n",
              "  </tbody>\n",
              "</table>\n",
              "</div>"
            ],
            "text/plain": [
              "  molecule_chembl_id                                   canonical_smiles  \\\n",
              "0         CHEMBL1730  CO/N=C(\\C(=O)N[C@@H]1C(=O)N2C(C(=O)O)=C(COC(C)...   \n",
              "1          CHEMBL996  CO[C@@]1(NC(=O)Cc2cccs2)C(=O)N2C(C(=O)O)=C(COC...   \n",
              "2          CHEMBL617  CC(=O)OCC1=C(C(=O)O)N2C(=O)[C@@H](NC(=O)Cc3ccc...   \n",
              "3          CHEMBL702  CCN1CCN(C(=O)N[C@@H](C(=O)N[C@@H]2C(=O)N3[C@@H...   \n",
              "4         CHEMBL1449  CC1(C)S[C@@H]2[C@H](NC(=O)[C@H](C(=O)O)c3ccsc3...   \n",
              "\n",
              "  standard_relation  standard_value standard_units standard_type  \\\n",
              "0                 =            10.0          /mM/s       Kcat/Km   \n",
              "1               NaN             NaN            NaN       Kcat/Km   \n",
              "2                 =           598.0          /mM/s       Kcat/Km   \n",
              "3                 =          3400.0          /mM/s       Kcat/Km   \n",
              "4                 =         10000.0          /mM/s       Kcat/Km   \n",
              "\n",
              "   pchembl_value target_pref_name     bao_label  \n",
              "0            NaN             Gil1  assay format  \n",
              "1            NaN             Gil1  assay format  \n",
              "2            NaN             Gil1  assay format  \n",
              "3            NaN             Gil1  assay format  \n",
              "4            NaN             Gil1  assay format  "
            ]
          },
          "execution_count": 13,
          "metadata": {},
          "output_type": "execute_result"
        }
      ],
      "source": [
        "df.head()"
      ]
    },
    {
      "cell_type": "code",
      "execution_count": 14,
      "metadata": {
        "colab": {
          "base_uri": "https://localhost:8080/",
          "height": 323
        },
        "id": "loeDWobu_crw",
        "outputId": "eb3f5dde-86a6-46ca-c2ce-b2eeaadb583e"
      },
      "outputs": [
        {
          "data": {
            "image/png": "[encoded data removed]",
            "text/plain": [
              "<Figure size 360x324 with 1 Axes>"
            ]
          },
          "metadata": {
            "needs_background": "light"
          },
          "output_type": "display_data"
        }
      ],
      "source": [
        "# Bar plot of Missing vs Non-Missing Data\n",
        "\n",
        "import matplotlib.pyplot as plt\n",
        "\n",
        "# Data\n",
        "missing = df.pchembl_value.isnull().sum()\n",
        "nonmissing = df.pchembl_value.notnull().sum()\n",
        "\n",
        "x = ['Missing', 'Non-Missing']\n",
        "y = [missing, nonmissing]\n",
        "\n",
        "# Setup plot\n",
        "fig, ax = plt.subplots()\n",
        "\n",
        "# Make bar plot\n",
        "p = ax.bar(x, y, color = ['#F8766D', '#00BFC4'], ec = 'black')\n",
        "\n",
        "ax.set_title('pChEMBL Missing Data', fontsize=14, fontweight='bold', pad=15)\n",
        "#ax.set_xticklabels(x, fontweight='bold')\n",
        "\n",
        "ax.set_ylim(0,70000)\n",
        "plt.xticks(fontsize=14)\n",
        "plt.yticks(fontsize=14)\n",
        "\n",
        "# Label above bar\n",
        "for index, data in enumerate(y):\n",
        "    plt.text(x=index-0.1 , y =data+1000 , s=f\"{data}\" , fontdict=dict(fontsize=14))\n",
        "\n",
        "fig.set_size_inches(5,4.5)\n",
        "plt.show()"
      ]
    },
    {
      "cell_type": "code",
      "execution_count": 15,
      "metadata": {
        "colab": {
          "base_uri": "https://localhost:8080/"
        },
        "id": "n8nLErqNA81y",
        "outputId": "2f6c859d-ee8a-46c4-d5dd-4a07fac4e954"
      },
      "outputs": [
        {
          "name": "stdout",
          "output_type": "stream",
          "text": [
            "Number of unique ChEMBL ID: 64436\n",
            "Total number of ChEMBL ID:  71973\n",
            "Number of missing ChEMBL ID:  0\n"
          ]
        }
      ],
      "source": [
        "print('Number of unique ChEMBL ID:', str(len(df.molecule_chembl_id.unique()) )  )\n",
        "print('Total number of ChEMBL ID: ', str(len(df)) )\n",
        "print('Number of missing ChEMBL ID: ', str(df.molecule_chembl_id.isnull().sum()) )"
      ]
    },
    {
      "cell_type": "code",
      "execution_count": 16,
      "metadata": {
        "colab": {
          "base_uri": "https://localhost:8080/",
          "height": 745
        },
        "id": "y1D_ifqDIRjS",
        "outputId": "3f2f39a8-b1b6-48f0-c870-78fd7366cfa4"
      },
      "outputs": [
        {
          "name": "stdout",
          "output_type": "stream",
          "text": [
            "(71973, 9)\n",
            "(64424, 9)\n"
          ]
        },
        {
          "data": {
            "text/html": [
              "<div>\n",
              "<style scoped>\n",
              "    .dataframe tbody tr th:only-of-type {\n",
              "        vertical-align: middle;\n",
              "    }\n",
              "\n",
              "    .dataframe tbody tr th {\n",
              "        vertical-align: top;\n",
              "    }\n",
              "\n",
              "    .dataframe thead th {\n",
              "        text-align: right;\n",
              "    }\n",
              "</style>\n",
              "<table border=\"1\" class=\"dataframe\">\n",
              "  <thead>\n",
              "    <tr style=\"text-align: right;\">\n",
              "      <th></th>\n",
              "      <th>molecule_chembl_id</th>\n",
              "      <th>canonical_smiles</th>\n",
              "      <th>standard_relation</th>\n",
              "      <th>standard_value</th>\n",
              "      <th>standard_units</th>\n",
              "      <th>standard_type</th>\n",
              "      <th>pchembl_value</th>\n",
              "      <th>target_pref_name</th>\n",
              "      <th>bao_label</th>\n",
              "    </tr>\n",
              "  </thead>\n",
              "  <tbody>\n",
              "    <tr>\n",
              "      <th>47</th>\n",
              "      <td>CHEMBL777</td>\n",
              "      <td>O=C(O)[C@H]1/C(=C/CO)O[C@@H]2CC(=O)N21</td>\n",
              "      <td>=</td>\n",
              "      <td>9.0</td>\n",
              "      <td>nM</td>\n",
              "      <td>IC50</td>\n",
              "      <td>8.05</td>\n",
              "      <td>Gil1</td>\n",
              "      <td>assay format</td>\n",
              "    </tr>\n",
              "    <tr>\n",
              "      <th>48</th>\n",
              "      <td>CHEMBL404</td>\n",
              "      <td>C[C@]1(Cn2ccnn2)[C@H](C(=O)O)N2C(=O)C[C@H]2S1(...</td>\n",
              "      <td>=</td>\n",
              "      <td>40.0</td>\n",
              "      <td>nM</td>\n",
              "      <td>IC50</td>\n",
              "      <td>7.40</td>\n",
              "      <td>Gil1</td>\n",
              "      <td>assay format</td>\n",
              "    </tr>\n",
              "    <tr>\n",
              "      <th>7</th>\n",
              "      <td>CHEMBL777</td>\n",
              "      <td>O=C(O)[C@H]1/C(=C/CO)O[C@@H]2CC(=O)N21</td>\n",
              "      <td>=</td>\n",
              "      <td>70.0</td>\n",
              "      <td>nM</td>\n",
              "      <td>IC50</td>\n",
              "      <td>7.16</td>\n",
              "      <td>Beta-lactamase SCO-1</td>\n",
              "      <td>single protein format</td>\n",
              "    </tr>\n",
              "    <tr>\n",
              "      <th>8</th>\n",
              "      <td>CHEMBL403</td>\n",
              "      <td>CC1(C)[C@H](C(=O)O)N2C(=O)C[C@H]2S1(=O)=O</td>\n",
              "      <td>=</td>\n",
              "      <td>6200.0</td>\n",
              "      <td>nM</td>\n",
              "      <td>IC50</td>\n",
              "      <td>5.21</td>\n",
              "      <td>Beta-lactamase SCO-1</td>\n",
              "      <td>single protein format</td>\n",
              "    </tr>\n",
              "    <tr>\n",
              "      <th>9</th>\n",
              "      <td>CHEMBL404</td>\n",
              "      <td>C[C@]1(Cn2ccnn2)[C@H](C(=O)O)N2C(=O)C[C@H]2S1(...</td>\n",
              "      <td>=</td>\n",
              "      <td>10.0</td>\n",
              "      <td>nM</td>\n",
              "      <td>IC50</td>\n",
              "      <td>8.00</td>\n",
              "      <td>Beta-lactamase SCO-1</td>\n",
              "      <td>single protein format</td>\n",
              "    </tr>\n",
              "  </tbody>\n",
              "</table>\n",
              "</div>"
            ],
            "text/plain": [
              "   molecule_chembl_id                                   canonical_smiles  \\\n",
              "47          CHEMBL777             O=C(O)[C@H]1/C(=C/CO)O[C@@H]2CC(=O)N21   \n",
              "48          CHEMBL404  C[C@]1(Cn2ccnn2)[C@H](C(=O)O)N2C(=O)C[C@H]2S1(...   \n",
              "7           CHEMBL777             O=C(O)[C@H]1/C(=C/CO)O[C@@H]2CC(=O)N21   \n",
              "8           CHEMBL403          CC1(C)[C@H](C(=O)O)N2C(=O)C[C@H]2S1(=O)=O   \n",
              "9           CHEMBL404  C[C@]1(Cn2ccnn2)[C@H](C(=O)O)N2C(=O)C[C@H]2S1(...   \n",
              "\n",
              "   standard_relation  standard_value standard_units standard_type  \\\n",
              "47                 =             9.0             nM          IC50   \n",
              "48                 =            40.0             nM          IC50   \n",
              "7                  =            70.0             nM          IC50   \n",
              "8                  =          6200.0             nM          IC50   \n",
              "9                  =            10.0             nM          IC50   \n",
              "\n",
              "    pchembl_value      target_pref_name              bao_label  \n",
              "47           8.05                  Gil1           assay format  \n",
              "48           7.40                  Gil1           assay format  \n",
              "7            7.16  Beta-lactamase SCO-1  single protein format  \n",
              "8            5.21  Beta-lactamase SCO-1  single protein format  \n",
              "9            8.00  Beta-lactamase SCO-1  single protein format  "
            ]
          },
          "execution_count": 16,
          "metadata": {},
          "output_type": "execute_result"
        }
      ],
      "source": [
        "# Non-missing data with pChEMBL value\n",
        "print(df.shape)\n",
        "df2 = df[df.pchembl_value.notnull()]\n",
        "print(df2.shape)\n",
        "df2.head()"
      ]
    },
    {
      "cell_type": "code",
      "execution_count": 17,
      "metadata": {
        "id": "l3TZE0L0WcFN"
      },
      "outputs": [],
      "source": [
        "import matplotlib.pyplot as plt\n",
        "\n",
        "unique = len(df.molecule_chembl_id.unique())\n",
        "not_unique = len(df) - unique\n",
        "\n",
        "x = ['Unique', 'Redundant']\n",
        "y = [unique, not_unique]\n",
        "\n"
      ]
    },
    {
      "cell_type": "code",
      "execution_count": 18,
      "metadata": {
        "colab": {
          "base_uri": "https://localhost:8080/",
          "height": 491
        },
        "id": "B9WI4MpiHJgP",
        "outputId": "4382a0e2-e5df-4282-d075-100c6d921599"
      },
      "outputs": [
        {
          "data": {
            "image/png": "[encoded data removed]",
            "text/plain": [
              "<Figure size 1728x288 with 1 Axes>"
            ]
          },
          "metadata": {
            "needs_background": "light"
          },
          "output_type": "display_data"
        }
      ],
      "source": [
        "df2.target_pref_name.value_counts()[0:50].plot.bar(figsize=(24,4), color='#00BFC4', ec='black')\n",
        "\n",
        "plt.title('Top 50 Targets', fontsize=14, fontweight='black', pad=15)\n",
        "plt.show()"
      ]
    },
    {
      "cell_type": "code",
      "execution_count": 19,
      "metadata": {
        "colab": {
          "base_uri": "https://localhost:8080/",
          "height": 321
        },
        "id": "fl1ykWbNKOJz",
        "outputId": "92a15a84-abe2-4bb3-ad46-743fd91a221d"
      },
      "outputs": [
        {
          "data": {
            "image/png": "[encoded data removed]",
            "text/plain": [
              "<Figure size 576x288 with 1 Axes>"
            ]
          },
          "metadata": {
            "needs_background": "light"
          },
          "output_type": "display_data"
        }
      ],
      "source": [
        "# Top 10 Bioactivity units\n",
        "df2.standard_type.value_counts()[:10].plot.bar(figsize=(8,4), color='#00BFC4', ec='black')\n",
        "\n",
        "plt.title('Top Bioactivity Units', fontsize=14, fontweight='black', pad=15)\n",
        "plt.show()"
      ]
    },
    {
      "cell_type": "code",
      "execution_count": 20,
      "metadata": {
        "colab": {
          "base_uri": "https://localhost:8080/",
          "height": 408
        },
        "id": "pQ2fxUGVSeNn",
        "outputId": "d96e5e4c-ce9d-40f3-bc0e-31b10a1c7d53"
      },
      "outputs": [
        {
          "data": {
            "image/png": "[encoded data removed]",
            "text/plain": [
              "<Figure size 576x288 with 1 Axes>"
            ]
          },
          "metadata": {
            "needs_background": "light"
          },
          "output_type": "display_data"
        }
      ],
      "source": [
        "bao_labels = df2.bao_label.value_counts()\n",
        "bao_labels.plot.bar(figsize=(8,4), color='#00BFC4', ec='black')\n",
        "\n",
        "plt.title('Histogram of BioAssay Ontology', fontsize=14, fontweight='black', pad=15)\n",
        "plt.xticks(fontsize=12)\n",
        "plt.yticks(fontsize=12)\n",
        "plt.show()"
      ]
    },
    {
      "cell_type": "code",
      "execution_count": 21,
      "metadata": {
        "id": "GOkc9-PiUYvY"
      },
      "outputs": [
        {
          "data": {
            "text/plain": [
              "assay format             62068\n",
              "single protein format     2047\n",
              "cell-based format          309\n",
              "Name: bao_label, dtype: int64"
            ]
          },
          "execution_count": 21,
          "metadata": {},
          "output_type": "execute_result"
        }
      ],
      "source": [
        "bao_labels"
      ]
    },
    {
      "cell_type": "code",
      "execution_count": 22,
      "metadata": {
        "colab": {
          "base_uri": "https://localhost:8080/",
          "height": 294
        },
        "id": "XOrwRrA2L8__",
        "outputId": "2d64d786-d2d3-4053-da09-633b8a7e57e1"
      },
      "outputs": [
        {
          "data": {
            "image/png": "[encoded data removed]",
            "text/plain": [
              "<Figure size 576x288 with 1 Axes>"
            ]
          },
          "metadata": {
            "needs_background": "light"
          },
          "output_type": "display_data"
        }
      ],
      "source": [
        "df2.pchembl_value.hist(bins=40, figsize=(8,4), color='#00BFC4', ec='black')\n",
        "\n",
        "plt.title('Histogram of pChEMBL values', fontsize=14, fontweight='black', pad=15)\n",
        "plt.xticks(fontsize=12)\n",
        "plt.yticks(fontsize=12)\n",
        "plt.show()"
      ]
    },
    {
      "cell_type": "markdown",
      "metadata": {
        "id": "iaS_0mQmpjsI"
      },
      "source": [
        "pChEMBL values <5 == 'Inactive'\n",
        "pChEMBL values > 6 == 'Active'\n",
        "pChEMBL values 5-6 == 'Intermediate'"
      ]
    },
    {
      "cell_type": "code",
      "execution_count": 23,
      "metadata": {
        "colab": {
          "base_uri": "https://localhost:8080/",
          "height": 450
        },
        "id": "lDzUyr8FI76r",
        "outputId": "533304c2-a0bf-4cfa-e32e-caede68c892f"
      },
      "outputs": [],
      "source": [
        "df2_mean = df2.groupby('molecule_chembl_id').mean()"
      ]
    },
    {
      "cell_type": "code",
      "execution_count": 24,
      "metadata": {
        "id": "0RA_lfBwJIwy"
      },
      "outputs": [
        {
          "name": "stdout",
          "output_type": "stream",
          "text": [
            "(63038, 2)\n",
            "(63030, 2)\n",
            "                    standard_value  pchembl_value\n",
            "molecule_chembl_id                               \n",
            "CHEMBL1018                     NaN            NaN\n",
            "CHEMBL1024                     NaN            NaN\n",
            "CHEMBL1028                     NaN            NaN\n",
            "CHEMBL1036                     NaN            NaN\n",
            "CHEMBL104             10606.601718       0.169706\n",
            "(8, 2)\n",
            "                    standard_value  pchembl_value\n",
            "molecule_chembl_id                               \n",
            "CHEMBL166730          64389.850602       2.382950\n",
            "CHEMBL1795572         17890.931511       2.041429\n",
            "CHEMBL3234727         50133.870786       2.015254\n",
            "CHEMBL338933          45711.707563       2.020726\n",
            "CHEMBL4114669         15575.928775       2.232136\n",
            "CHEMBL4114749          2605.293120       2.141316\n",
            "CHEMBL4533632          3604.123264       2.283955\n",
            "CHEMBL67925            7068.239385       2.404163\n"
          ]
        }
      ],
      "source": [
        "df2_std = df2.groupby('molecule_chembl_id').std()\n",
        "df_std_filter = df2_std[(df2_std.pchembl_value < 2) | (df2_std.pchembl_value.isnull())]\n",
        "print(df2_std.shape)\n",
        "print(df_std_filter.shape)\n",
        "print(df2_std.head())\n",
        "print(df2_std[(df2_std.pchembl_value > 2)].shape)\n",
        "print(df2_std[(df2_std.pchembl_value > 2)])"
      ]
    },
    {
      "cell_type": "code",
      "execution_count": 25,
      "metadata": {},
      "outputs": [
        {
          "name": "stdout",
          "output_type": "stream",
          "text": [
            "(63030, 4)\n"
          ]
        },
        {
          "data": {
            "text/html": [
              "<div>\n",
              "<style scoped>\n",
              "    .dataframe tbody tr th:only-of-type {\n",
              "        vertical-align: middle;\n",
              "    }\n",
              "\n",
              "    .dataframe tbody tr th {\n",
              "        vertical-align: top;\n",
              "    }\n",
              "\n",
              "    .dataframe thead th {\n",
              "        text-align: right;\n",
              "    }\n",
              "</style>\n",
              "<table border=\"1\" class=\"dataframe\">\n",
              "  <thead>\n",
              "    <tr style=\"text-align: right;\">\n",
              "      <th></th>\n",
              "      <th>standard_value_x</th>\n",
              "      <th>pchembl_value_x</th>\n",
              "      <th>standard_value_y</th>\n",
              "      <th>pchembl_value_y</th>\n",
              "    </tr>\n",
              "    <tr>\n",
              "      <th>molecule_chembl_id</th>\n",
              "      <th></th>\n",
              "      <th></th>\n",
              "      <th></th>\n",
              "      <th></th>\n",
              "    </tr>\n",
              "  </thead>\n",
              "  <tbody>\n",
              "    <tr>\n",
              "      <th>CHEMBL1018</th>\n",
              "      <td>NaN</td>\n",
              "      <td>NaN</td>\n",
              "      <td>316.2</td>\n",
              "      <td>6.50</td>\n",
              "    </tr>\n",
              "    <tr>\n",
              "      <th>CHEMBL1024</th>\n",
              "      <td>NaN</td>\n",
              "      <td>NaN</td>\n",
              "      <td>11220.2</td>\n",
              "      <td>4.95</td>\n",
              "    </tr>\n",
              "    <tr>\n",
              "      <th>CHEMBL1028</th>\n",
              "      <td>NaN</td>\n",
              "      <td>NaN</td>\n",
              "      <td>2818.4</td>\n",
              "      <td>5.55</td>\n",
              "    </tr>\n",
              "    <tr>\n",
              "      <th>CHEMBL1036</th>\n",
              "      <td>NaN</td>\n",
              "      <td>NaN</td>\n",
              "      <td>39.8</td>\n",
              "      <td>7.40</td>\n",
              "    </tr>\n",
              "    <tr>\n",
              "      <th>CHEMBL104</th>\n",
              "      <td>10606.601718</td>\n",
              "      <td>0.169706</td>\n",
              "      <td>27500.0</td>\n",
              "      <td>4.58</td>\n",
              "    </tr>\n",
              "  </tbody>\n",
              "</table>\n",
              "</div>"
            ],
            "text/plain": [
              "                    standard_value_x  pchembl_value_x  standard_value_y  \\\n",
              "molecule_chembl_id                                                        \n",
              "CHEMBL1018                       NaN              NaN             316.2   \n",
              "CHEMBL1024                       NaN              NaN           11220.2   \n",
              "CHEMBL1028                       NaN              NaN            2818.4   \n",
              "CHEMBL1036                       NaN              NaN              39.8   \n",
              "CHEMBL104               10606.601718         0.169706           27500.0   \n",
              "\n",
              "                    pchembl_value_y  \n",
              "molecule_chembl_id                   \n",
              "CHEMBL1018                     6.50  \n",
              "CHEMBL1024                     4.95  \n",
              "CHEMBL1028                     5.55  \n",
              "CHEMBL1036                     7.40  \n",
              "CHEMBL104                      4.58  "
            ]
          },
          "execution_count": 25,
          "metadata": {},
          "output_type": "execute_result"
        }
      ],
      "source": [
        "df_merge1 = df_std_filter.merge(df2_mean, on='molecule_chembl_id')\n",
        "print(df_merge1.shape)\n",
        "df_merge1.head()"
      ]
    },
    {
      "cell_type": "code",
      "execution_count": 26,
      "metadata": {},
      "outputs": [
        {
          "name": "stdout",
          "output_type": "stream",
          "text": [
            "(63038, 9)\n",
            "(63030, 13)\n"
          ]
        },
        {
          "name": "stderr",
          "output_type": "stream",
          "text": [
            "C:\\Users\\trent\\anaconda3\\envs\\beta_lactamase\\lib\\site-packages\\pandas\\util\\_decorators.py:311: SettingWithCopyWarning: \n",
            "A value is trying to be set on a copy of a slice from a DataFrame\n",
            "\n",
            "See the caveats in the documentation: https://pandas.pydata.org/pandas-docs/stable/user_guide/indexing.html#returning-a-view-versus-a-copy\n",
            "  return func(*args, **kwargs)\n"
          ]
        },
        {
          "data": {
            "text/html": [
              "<div>\n",
              "<style scoped>\n",
              "    .dataframe tbody tr th:only-of-type {\n",
              "        vertical-align: middle;\n",
              "    }\n",
              "\n",
              "    .dataframe tbody tr th {\n",
              "        vertical-align: top;\n",
              "    }\n",
              "\n",
              "    .dataframe thead th {\n",
              "        text-align: right;\n",
              "    }\n",
              "</style>\n",
              "<table border=\"1\" class=\"dataframe\">\n",
              "  <thead>\n",
              "    <tr style=\"text-align: right;\">\n",
              "      <th></th>\n",
              "      <th>molecule_chembl_id</th>\n",
              "      <th>standard_value_x</th>\n",
              "      <th>pchembl_value_x</th>\n",
              "      <th>standard_value_y</th>\n",
              "      <th>pchembl_value_y</th>\n",
              "      <th>canonical_smiles</th>\n",
              "      <th>standard_relation</th>\n",
              "      <th>standard_value</th>\n",
              "      <th>standard_units</th>\n",
              "      <th>standard_type</th>\n",
              "      <th>pchembl_value</th>\n",
              "      <th>target_pref_name</th>\n",
              "      <th>bao_label</th>\n",
              "    </tr>\n",
              "  </thead>\n",
              "  <tbody>\n",
              "    <tr>\n",
              "      <th>0</th>\n",
              "      <td>CHEMBL1018</td>\n",
              "      <td>NaN</td>\n",
              "      <td>NaN</td>\n",
              "      <td>316.2</td>\n",
              "      <td>6.50</td>\n",
              "      <td>C/C=C(C(=C/C)/c1ccc(O)cc1)\\c1ccc(O)cc1</td>\n",
              "      <td>=</td>\n",
              "      <td>316.2</td>\n",
              "      <td>nM</td>\n",
              "      <td>Potency</td>\n",
              "      <td>6.50</td>\n",
              "      <td>Beta-lactamase AmpC</td>\n",
              "      <td>assay format</td>\n",
              "    </tr>\n",
              "    <tr>\n",
              "      <th>1</th>\n",
              "      <td>CHEMBL1024</td>\n",
              "      <td>NaN</td>\n",
              "      <td>NaN</td>\n",
              "      <td>11220.2</td>\n",
              "      <td>4.95</td>\n",
              "      <td>O=P1(NCCCl)OCCCN1CCCl</td>\n",
              "      <td>=</td>\n",
              "      <td>11220.2</td>\n",
              "      <td>nM</td>\n",
              "      <td>Potency</td>\n",
              "      <td>4.95</td>\n",
              "      <td>Beta-lactamase AmpC</td>\n",
              "      <td>assay format</td>\n",
              "    </tr>\n",
              "    <tr>\n",
              "      <th>2</th>\n",
              "      <td>CHEMBL1028</td>\n",
              "      <td>NaN</td>\n",
              "      <td>NaN</td>\n",
              "      <td>2818.4</td>\n",
              "      <td>5.55</td>\n",
              "      <td>CCNCC(=O)Nc1c(C)cccc1C</td>\n",
              "      <td>=</td>\n",
              "      <td>2818.4</td>\n",
              "      <td>nM</td>\n",
              "      <td>Potency</td>\n",
              "      <td>5.55</td>\n",
              "      <td>Beta-lactamase AmpC</td>\n",
              "      <td>assay format</td>\n",
              "    </tr>\n",
              "    <tr>\n",
              "      <th>3</th>\n",
              "      <td>CHEMBL1036</td>\n",
              "      <td>NaN</td>\n",
              "      <td>NaN</td>\n",
              "      <td>39.8</td>\n",
              "      <td>7.40</td>\n",
              "      <td>OC(CCCN1CCC(O)(c2ccc(Cl)cc2)CC1)c1ccc(F)cc1</td>\n",
              "      <td>=</td>\n",
              "      <td>39.8</td>\n",
              "      <td>nM</td>\n",
              "      <td>Potency</td>\n",
              "      <td>7.40</td>\n",
              "      <td>Beta-lactamase AmpC</td>\n",
              "      <td>assay format</td>\n",
              "    </tr>\n",
              "    <tr>\n",
              "      <th>4</th>\n",
              "      <td>CHEMBL104</td>\n",
              "      <td>10606.601718</td>\n",
              "      <td>0.169706</td>\n",
              "      <td>27500.0</td>\n",
              "      <td>4.58</td>\n",
              "      <td>Clc1ccccc1C(c1ccccc1)(c1ccccc1)n1ccnc1</td>\n",
              "      <td>=</td>\n",
              "      <td>20000.0</td>\n",
              "      <td>nM</td>\n",
              "      <td>IC50</td>\n",
              "      <td>4.70</td>\n",
              "      <td>Beta-lactamase AmpC</td>\n",
              "      <td>single protein format</td>\n",
              "    </tr>\n",
              "  </tbody>\n",
              "</table>\n",
              "</div>"
            ],
            "text/plain": [
              "  molecule_chembl_id  standard_value_x  pchembl_value_x  standard_value_y  \\\n",
              "0         CHEMBL1018               NaN              NaN             316.2   \n",
              "1         CHEMBL1024               NaN              NaN           11220.2   \n",
              "2         CHEMBL1028               NaN              NaN            2818.4   \n",
              "3         CHEMBL1036               NaN              NaN              39.8   \n",
              "4          CHEMBL104      10606.601718         0.169706           27500.0   \n",
              "\n",
              "   pchembl_value_y                             canonical_smiles  \\\n",
              "0             6.50       C/C=C(C(=C/C)/c1ccc(O)cc1)\\c1ccc(O)cc1   \n",
              "1             4.95                        O=P1(NCCCl)OCCCN1CCCl   \n",
              "2             5.55                       CCNCC(=O)Nc1c(C)cccc1C   \n",
              "3             7.40  OC(CCCN1CCC(O)(c2ccc(Cl)cc2)CC1)c1ccc(F)cc1   \n",
              "4             4.58       Clc1ccccc1C(c1ccccc1)(c1ccccc1)n1ccnc1   \n",
              "\n",
              "  standard_relation  standard_value standard_units standard_type  \\\n",
              "0                 =           316.2             nM       Potency   \n",
              "1                 =         11220.2             nM       Potency   \n",
              "2                 =          2818.4             nM       Potency   \n",
              "3                 =            39.8             nM       Potency   \n",
              "4                 =         20000.0             nM          IC50   \n",
              "\n",
              "   pchembl_value     target_pref_name              bao_label  \n",
              "0           6.50  Beta-lactamase AmpC           assay format  \n",
              "1           4.95  Beta-lactamase AmpC           assay format  \n",
              "2           5.55  Beta-lactamase AmpC           assay format  \n",
              "3           7.40  Beta-lactamase AmpC           assay format  \n",
              "4           4.70  Beta-lactamase AmpC  single protein format  "
            ]
          },
          "execution_count": 26,
          "metadata": {},
          "output_type": "execute_result"
        }
      ],
      "source": [
        "df2.drop_duplicates(subset=['molecule_chembl_id'], keep='first', inplace=True)\n",
        "print(df2.shape)\n",
        "df_merge2 = df_merge1.merge(df2, how='left', on='molecule_chembl_id')\n",
        "print(df_merge2.shape)\n",
        "df_merge2.head()"
      ]
    },
    {
      "cell_type": "code",
      "execution_count": 27,
      "metadata": {},
      "outputs": [
        {
          "data": {
            "text/html": [
              "<div>\n",
              "<style scoped>\n",
              "    .dataframe tbody tr th:only-of-type {\n",
              "        vertical-align: middle;\n",
              "    }\n",
              "\n",
              "    .dataframe tbody tr th {\n",
              "        vertical-align: top;\n",
              "    }\n",
              "\n",
              "    .dataframe thead th {\n",
              "        text-align: right;\n",
              "    }\n",
              "</style>\n",
              "<table border=\"1\" class=\"dataframe\">\n",
              "  <thead>\n",
              "    <tr style=\"text-align: right;\">\n",
              "      <th></th>\n",
              "      <th>molecule_chembl_id</th>\n",
              "      <th>standard_value_x</th>\n",
              "      <th>pchembl_value_x</th>\n",
              "      <th>standard_value_y</th>\n",
              "      <th>pchembl_value_y</th>\n",
              "      <th>canonical_smiles</th>\n",
              "      <th>standard_relation</th>\n",
              "      <th>standard_value</th>\n",
              "      <th>standard_units</th>\n",
              "      <th>standard_type</th>\n",
              "      <th>pchembl_value</th>\n",
              "      <th>target_pref_name</th>\n",
              "      <th>bao_label</th>\n",
              "    </tr>\n",
              "  </thead>\n",
              "  <tbody>\n",
              "    <tr>\n",
              "      <th>0</th>\n",
              "      <td>CHEMBL1018</td>\n",
              "      <td>NaN</td>\n",
              "      <td>NaN</td>\n",
              "      <td>316.2</td>\n",
              "      <td>6.50</td>\n",
              "      <td>C/C=C(C(=C/C)/c1ccc(O)cc1)\\c1ccc(O)cc1</td>\n",
              "      <td>=</td>\n",
              "      <td>316.2</td>\n",
              "      <td>nM</td>\n",
              "      <td>Potency</td>\n",
              "      <td>6.50</td>\n",
              "      <td>Beta-lactamase AmpC</td>\n",
              "      <td>assay format</td>\n",
              "    </tr>\n",
              "    <tr>\n",
              "      <th>1</th>\n",
              "      <td>CHEMBL1024</td>\n",
              "      <td>NaN</td>\n",
              "      <td>NaN</td>\n",
              "      <td>11220.2</td>\n",
              "      <td>4.95</td>\n",
              "      <td>O=P1(NCCCl)OCCCN1CCCl</td>\n",
              "      <td>=</td>\n",
              "      <td>11220.2</td>\n",
              "      <td>nM</td>\n",
              "      <td>Potency</td>\n",
              "      <td>4.95</td>\n",
              "      <td>Beta-lactamase AmpC</td>\n",
              "      <td>assay format</td>\n",
              "    </tr>\n",
              "    <tr>\n",
              "      <th>2</th>\n",
              "      <td>CHEMBL1028</td>\n",
              "      <td>NaN</td>\n",
              "      <td>NaN</td>\n",
              "      <td>2818.4</td>\n",
              "      <td>5.55</td>\n",
              "      <td>CCNCC(=O)Nc1c(C)cccc1C</td>\n",
              "      <td>=</td>\n",
              "      <td>2818.4</td>\n",
              "      <td>nM</td>\n",
              "      <td>Potency</td>\n",
              "      <td>5.55</td>\n",
              "      <td>Beta-lactamase AmpC</td>\n",
              "      <td>assay format</td>\n",
              "    </tr>\n",
              "    <tr>\n",
              "      <th>3</th>\n",
              "      <td>CHEMBL1036</td>\n",
              "      <td>NaN</td>\n",
              "      <td>NaN</td>\n",
              "      <td>39.8</td>\n",
              "      <td>7.40</td>\n",
              "      <td>OC(CCCN1CCC(O)(c2ccc(Cl)cc2)CC1)c1ccc(F)cc1</td>\n",
              "      <td>=</td>\n",
              "      <td>39.8</td>\n",
              "      <td>nM</td>\n",
              "      <td>Potency</td>\n",
              "      <td>7.40</td>\n",
              "      <td>Beta-lactamase AmpC</td>\n",
              "      <td>assay format</td>\n",
              "    </tr>\n",
              "    <tr>\n",
              "      <th>4</th>\n",
              "      <td>CHEMBL104</td>\n",
              "      <td>10606.601718</td>\n",
              "      <td>0.169706</td>\n",
              "      <td>27500.0</td>\n",
              "      <td>4.58</td>\n",
              "      <td>Clc1ccccc1C(c1ccccc1)(c1ccccc1)n1ccnc1</td>\n",
              "      <td>=</td>\n",
              "      <td>20000.0</td>\n",
              "      <td>nM</td>\n",
              "      <td>IC50</td>\n",
              "      <td>4.58</td>\n",
              "      <td>Beta-lactamase AmpC</td>\n",
              "      <td>single protein format</td>\n",
              "    </tr>\n",
              "  </tbody>\n",
              "</table>\n",
              "</div>"
            ],
            "text/plain": [
              "  molecule_chembl_id  standard_value_x  pchembl_value_x  standard_value_y  \\\n",
              "0         CHEMBL1018               NaN              NaN             316.2   \n",
              "1         CHEMBL1024               NaN              NaN           11220.2   \n",
              "2         CHEMBL1028               NaN              NaN            2818.4   \n",
              "3         CHEMBL1036               NaN              NaN              39.8   \n",
              "4          CHEMBL104      10606.601718         0.169706           27500.0   \n",
              "\n",
              "   pchembl_value_y                             canonical_smiles  \\\n",
              "0             6.50       C/C=C(C(=C/C)/c1ccc(O)cc1)\\c1ccc(O)cc1   \n",
              "1             4.95                        O=P1(NCCCl)OCCCN1CCCl   \n",
              "2             5.55                       CCNCC(=O)Nc1c(C)cccc1C   \n",
              "3             7.40  OC(CCCN1CCC(O)(c2ccc(Cl)cc2)CC1)c1ccc(F)cc1   \n",
              "4             4.58       Clc1ccccc1C(c1ccccc1)(c1ccccc1)n1ccnc1   \n",
              "\n",
              "  standard_relation  standard_value standard_units standard_type  \\\n",
              "0                 =           316.2             nM       Potency   \n",
              "1                 =         11220.2             nM       Potency   \n",
              "2                 =          2818.4             nM       Potency   \n",
              "3                 =            39.8             nM       Potency   \n",
              "4                 =         20000.0             nM          IC50   \n",
              "\n",
              "   pchembl_value     target_pref_name              bao_label  \n",
              "0           6.50  Beta-lactamase AmpC           assay format  \n",
              "1           4.95  Beta-lactamase AmpC           assay format  \n",
              "2           5.55  Beta-lactamase AmpC           assay format  \n",
              "3           7.40  Beta-lactamase AmpC           assay format  \n",
              "4           4.58  Beta-lactamase AmpC  single protein format  "
            ]
          },
          "execution_count": 27,
          "metadata": {},
          "output_type": "execute_result"
        }
      ],
      "source": [
        "df_merge2.pchembl_value = df_merge2.pchembl_value_y\n",
        "df_merge2.head()"
      ]
    },
    {
      "cell_type": "code",
      "execution_count": 28,
      "metadata": {},
      "outputs": [
        {
          "name": "stdout",
          "output_type": "stream",
          "text": [
            "(63030, 9)\n"
          ]
        },
        {
          "data": {
            "text/html": [
              "<div>\n",
              "<style scoped>\n",
              "    .dataframe tbody tr th:only-of-type {\n",
              "        vertical-align: middle;\n",
              "    }\n",
              "\n",
              "    .dataframe tbody tr th {\n",
              "        vertical-align: top;\n",
              "    }\n",
              "\n",
              "    .dataframe thead th {\n",
              "        text-align: right;\n",
              "    }\n",
              "</style>\n",
              "<table border=\"1\" class=\"dataframe\">\n",
              "  <thead>\n",
              "    <tr style=\"text-align: right;\">\n",
              "      <th></th>\n",
              "      <th>molecule_chembl_id</th>\n",
              "      <th>canonical_smiles</th>\n",
              "      <th>standard_relation</th>\n",
              "      <th>standard_value</th>\n",
              "      <th>standard_units</th>\n",
              "      <th>standard_type</th>\n",
              "      <th>pchembl_value</th>\n",
              "      <th>target_pref_name</th>\n",
              "      <th>bao_label</th>\n",
              "    </tr>\n",
              "  </thead>\n",
              "  <tbody>\n",
              "    <tr>\n",
              "      <th>0</th>\n",
              "      <td>CHEMBL1018</td>\n",
              "      <td>C/C=C(C(=C/C)/c1ccc(O)cc1)\\c1ccc(O)cc1</td>\n",
              "      <td>=</td>\n",
              "      <td>316.2</td>\n",
              "      <td>nM</td>\n",
              "      <td>Potency</td>\n",
              "      <td>6.50</td>\n",
              "      <td>Beta-lactamase AmpC</td>\n",
              "      <td>assay format</td>\n",
              "    </tr>\n",
              "    <tr>\n",
              "      <th>1</th>\n",
              "      <td>CHEMBL1024</td>\n",
              "      <td>O=P1(NCCCl)OCCCN1CCCl</td>\n",
              "      <td>=</td>\n",
              "      <td>11220.2</td>\n",
              "      <td>nM</td>\n",
              "      <td>Potency</td>\n",
              "      <td>4.95</td>\n",
              "      <td>Beta-lactamase AmpC</td>\n",
              "      <td>assay format</td>\n",
              "    </tr>\n",
              "    <tr>\n",
              "      <th>2</th>\n",
              "      <td>CHEMBL1028</td>\n",
              "      <td>CCNCC(=O)Nc1c(C)cccc1C</td>\n",
              "      <td>=</td>\n",
              "      <td>2818.4</td>\n",
              "      <td>nM</td>\n",
              "      <td>Potency</td>\n",
              "      <td>5.55</td>\n",
              "      <td>Beta-lactamase AmpC</td>\n",
              "      <td>assay format</td>\n",
              "    </tr>\n",
              "    <tr>\n",
              "      <th>3</th>\n",
              "      <td>CHEMBL1036</td>\n",
              "      <td>OC(CCCN1CCC(O)(c2ccc(Cl)cc2)CC1)c1ccc(F)cc1</td>\n",
              "      <td>=</td>\n",
              "      <td>39.8</td>\n",
              "      <td>nM</td>\n",
              "      <td>Potency</td>\n",
              "      <td>7.40</td>\n",
              "      <td>Beta-lactamase AmpC</td>\n",
              "      <td>assay format</td>\n",
              "    </tr>\n",
              "    <tr>\n",
              "      <th>4</th>\n",
              "      <td>CHEMBL104</td>\n",
              "      <td>Clc1ccccc1C(c1ccccc1)(c1ccccc1)n1ccnc1</td>\n",
              "      <td>=</td>\n",
              "      <td>20000.0</td>\n",
              "      <td>nM</td>\n",
              "      <td>IC50</td>\n",
              "      <td>4.58</td>\n",
              "      <td>Beta-lactamase AmpC</td>\n",
              "      <td>single protein format</td>\n",
              "    </tr>\n",
              "  </tbody>\n",
              "</table>\n",
              "</div>"
            ],
            "text/plain": [
              "  molecule_chembl_id                             canonical_smiles  \\\n",
              "0         CHEMBL1018       C/C=C(C(=C/C)/c1ccc(O)cc1)\\c1ccc(O)cc1   \n",
              "1         CHEMBL1024                        O=P1(NCCCl)OCCCN1CCCl   \n",
              "2         CHEMBL1028                       CCNCC(=O)Nc1c(C)cccc1C   \n",
              "3         CHEMBL1036  OC(CCCN1CCC(O)(c2ccc(Cl)cc2)CC1)c1ccc(F)cc1   \n",
              "4          CHEMBL104       Clc1ccccc1C(c1ccccc1)(c1ccccc1)n1ccnc1   \n",
              "\n",
              "  standard_relation  standard_value standard_units standard_type  \\\n",
              "0                 =           316.2             nM       Potency   \n",
              "1                 =         11220.2             nM       Potency   \n",
              "2                 =          2818.4             nM       Potency   \n",
              "3                 =            39.8             nM       Potency   \n",
              "4                 =         20000.0             nM          IC50   \n",
              "\n",
              "   pchembl_value     target_pref_name              bao_label  \n",
              "0           6.50  Beta-lactamase AmpC           assay format  \n",
              "1           4.95  Beta-lactamase AmpC           assay format  \n",
              "2           5.55  Beta-lactamase AmpC           assay format  \n",
              "3           7.40  Beta-lactamase AmpC           assay format  \n",
              "4           4.58  Beta-lactamase AmpC  single protein format  "
            ]
          },
          "execution_count": 28,
          "metadata": {},
          "output_type": "execute_result"
        }
      ],
      "source": [
        "df_merge_final = df_merge2.drop(['standard_value_x', 'pchembl_value_x', 'standard_value_y', 'pchembl_value_y'], axis=1)\n",
        "print(df_merge_final.shape)\n",
        "df_merge_final.head()"
      ]
    },
    {
      "cell_type": "code",
      "execution_count": 34,
      "metadata": {
        "id": "Xq2BMPZCIHGf"
      },
      "outputs": [],
      "source": [
        "nrow = 25\n",
        "\n",
        "descriptors = pd.DataFrame(from_smiles(df_merge_final['canonical_smiles'][0:nrow].astype(str).to_list()))\n",
        "#pd.DataFrame(from_smiles([\"O=C(O)[C@H]1/C(=C/CO)O[C@@H]2CC(=O)N21\"]))\n",
        "descriptors['molecule_chembl_id'] = df_merge_final['molecule_chembl_id'][0:nrow]\n",
        "descriptors['pchembl_value'] = df_merge_final['pchembl_value'][0:nrow]\n"
      ]
    },
    {
      "cell_type": "code",
      "execution_count": 36,
      "metadata": {},
      "outputs": [
        {
          "data": {
            "text/plain": [
              "Index(['nAcid', 'ALogP', 'ALogp2', 'AMR', 'apol', 'naAromAtom', 'nAromBond',\n",
              "       'nAtom', 'nHeavyAtom', 'nH',\n",
              "       ...\n",
              "       'E1s', 'E2s', 'E3s', 'Ts', 'As', 'Vs', 'Ks', 'Ds', 'molecule_chembl_id',\n",
              "       'pchembl_value'],\n",
              "      dtype='object', length=1877)"
            ]
          },
          "execution_count": 36,
          "metadata": {},
          "output_type": "execute_result"
        }
      ],
      "source": [
        "descriptors.columns"
      ]
    }
  ],
  "metadata": {
    "colab": {
      "collapsed_sections": [],
      "name": "beta-lactamase-data.ipynb",
      "provenance": []
    },
    "interpreter": {
      "hash": "c4c1afcaa0824698e49fb009c9da9eaf010fa52d2eadd2a196450101a9336fb0"
    },
    "kernelspec": {
      "display_name": "Python 3.9.7 64-bit ('beta_lactamase': conda)",
      "name": "python3"
    },
    "language_info": {
      "codemirror_mode": {
        "name": "ipython",
        "version": 3
      },
      "file_extension": ".py",
      "mimetype": "text/x-python",
      "name": "python",
      "nbconvert_exporter": "python",
      "pygments_lexer": "ipython3",
      "version": "3.9.7"
    }
  },
  "nbformat": 4,
  "nbformat_minor": 0
}
